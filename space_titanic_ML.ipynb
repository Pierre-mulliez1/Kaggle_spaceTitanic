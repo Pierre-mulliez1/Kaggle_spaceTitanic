{
 "cells": [
  {
   "cell_type": "markdown",
   "id": "2587bb51",
   "metadata": {},
   "source": [
    "# Subject: space Titanic prediction \n",
    "# Link: https://www.kaggle.com/competitions/spaceship-titanic/data?select=sample_submission.csv\n",
    "# Author: Pierre Mulliez \n",
    "# Date start: 28/11/2022"
   ]
  },
  {
   "cell_type": "code",
   "execution_count": null,
   "id": "b1376282",
   "metadata": {},
   "outputs": [],
   "source": []
  }
 ],
 "metadata": {
  "jupytext": {
   "formats": "ipynb,md"
  },
  "kernelspec": {
   "display_name": "Python 3 (ipykernel)",
   "language": "python",
   "name": "python3"
  },
  "language_info": {
   "codemirror_mode": {
    "name": "ipython",
    "version": 3
   },
   "file_extension": ".py",
   "mimetype": "text/x-python",
   "name": "python",
   "nbconvert_exporter": "python",
   "pygments_lexer": "ipython3",
   "version": "3.7.6"
  }
 },
 "nbformat": 4,
 "nbformat_minor": 5
}
