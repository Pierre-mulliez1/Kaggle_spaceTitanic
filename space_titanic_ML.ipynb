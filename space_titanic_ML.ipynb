{
 "cells": [
  {
   "cell_type": "markdown",
   "id": "04774ca7",
   "metadata": {},
   "source": [
    "# Subject: space Titanic prediction \n",
    "# Link: https://www.kaggle.com/competitions/spaceship-titanic/data?select=sample_submission.csv\n",
    "# Author: Pierre Mulliez \n",
    "# Date start: 28/11/2022\n",
    "# Description: classify passengers as transported successfully (TRUE) or not (FALSE)"
   ]
  },
  {
   "cell_type": "code",
   "execution_count": 39,
   "id": "f6db96af",
   "metadata": {},
   "outputs": [],
   "source": [
    "# import packages \n",
    "import pandas as pd \n",
    "import numpy as np\n",
    "from sklearn.metrics import accuracy_score\n",
    "from sklearn.model_selection import train_test_split"
   ]
  },
  {
   "cell_type": "code",
   "execution_count": 40,
   "id": "8eb3e39e",
   "metadata": {},
   "outputs": [
    {
     "name": "stdout",
     "output_type": "stream",
     "text": [
      "  PassengerId HomePlanet CryoSleep  Cabin  Destination   Age    VIP  \\\n",
      "0     0001_01     Europa     False  B/0/P  TRAPPIST-1e  39.0  False   \n",
      "1     0002_01      Earth     False  F/0/S  TRAPPIST-1e  24.0  False   \n",
      "2     0003_01     Europa     False  A/0/S  TRAPPIST-1e  58.0   True   \n",
      "3     0003_02     Europa     False  A/0/S  TRAPPIST-1e  33.0  False   \n",
      "4     0004_01      Earth     False  F/1/S  TRAPPIST-1e  16.0  False   \n",
      "\n",
      "   RoomService  FoodCourt  ShoppingMall     Spa  VRDeck               Name  \\\n",
      "0          0.0        0.0           0.0     0.0     0.0    Maham Ofracculy   \n",
      "1        109.0        9.0          25.0   549.0    44.0       Juanna Vines   \n",
      "2         43.0     3576.0           0.0  6715.0    49.0      Altark Susent   \n",
      "3          0.0     1283.0         371.0  3329.0   193.0       Solam Susent   \n",
      "4        303.0       70.0         151.0   565.0     2.0  Willy Santantines   \n",
      "\n",
      "   Transported  \n",
      "0        False  \n",
      "1         True  \n",
      "2        False  \n",
      "3        False  \n",
      "4         True  \n",
      "------------------\n",
      "dataframe shape: (8693, 14)\n",
      "------------------\n",
      "               Age   RoomService     FoodCourt  ShoppingMall           Spa  \\\n",
      "count  8514.000000   8512.000000   8510.000000   8485.000000   8510.000000   \n",
      "mean     28.827930    224.687617    458.077203    173.729169    311.138778   \n",
      "std      14.489021    666.717663   1611.489240    604.696458   1136.705535   \n",
      "min       0.000000      0.000000      0.000000      0.000000      0.000000   \n",
      "25%      19.000000      0.000000      0.000000      0.000000      0.000000   \n",
      "50%      27.000000      0.000000      0.000000      0.000000      0.000000   \n",
      "75%      38.000000     47.000000     76.000000     27.000000     59.000000   \n",
      "max      79.000000  14327.000000  29813.000000  23492.000000  22408.000000   \n",
      "\n",
      "             VRDeck  \n",
      "count   8505.000000  \n",
      "mean     304.854791  \n",
      "std     1145.717189  \n",
      "min        0.000000  \n",
      "25%        0.000000  \n",
      "50%        0.000000  \n",
      "75%       46.000000  \n",
      "max    24133.000000  \n"
     ]
    }
   ],
   "source": [
    "# import data and print summaries\n",
    "titanic_df = pd.read_csv(\"data/train.csv\")\n",
    "print(titanic_df.head(5))\n",
    "print('------------------')\n",
    "print('dataframe shape: {}'.format(titanic_df.shape))\n",
    "print('------------------')\n",
    "print(titanic_df.describe())"
   ]
  },
  {
   "cell_type": "code",
   "execution_count": 41,
   "id": "bea3dd9d",
   "metadata": {},
   "outputs": [
    {
     "name": "stdout",
     "output_type": "stream",
     "text": [
      "baseline error without feature engineering is 0.5\n"
     ]
    }
   ],
   "source": [
    "# baseline model without feature engineering all TRUE \n",
    "test = [1 for count in range(0,len(titanic_df))]\n",
    "no_feature_eng_error = accuracy_score(titanic_df.loc[:,'Transported'].factorize()[0],test)\n",
    "print('baseline error without feature engineering is {}'.format(round(no_feature_eng_error,2)))"
   ]
  },
  {
   "cell_type": "code",
   "execution_count": 42,
   "id": "18abdb22",
   "metadata": {},
   "outputs": [],
   "source": [
    "# train test split\n",
    "y = titanic_df.loc[:,'Transported']\n",
    "X = titanic_df.pop('Transported')\n",
    "X_train, X_test, y_train, y_test = train_test_split(X, y, test_size=0.7, random_state=42)"
   ]
  },
  {
   "cell_type": "code",
   "execution_count": 44,
   "id": "0a2cf10d",
   "metadata": {},
   "outputs": [],
   "source": [
    "# scaling\n",
    "def scale(X):\n",
    "    X_scaled = (X - X.mean(axis=0)) / X.std(axis=0)\n",
    "    return X_scaled\n",
    "X_scaled = scale(X_train)"
   ]
  }
 ],
 "metadata": {
  "jupytext": {
   "formats": "ipynb,md"
  },
  "kernelspec": {
   "display_name": "Python 3 (ipykernel)",
   "language": "python",
   "name": "python3"
  },
  "language_info": {
   "codemirror_mode": {
    "name": "ipython",
    "version": 3
   },
   "file_extension": ".py",
   "mimetype": "text/x-python",
   "name": "python",
   "nbconvert_exporter": "python",
   "pygments_lexer": "ipython3",
   "version": "3.7.6"
  }
 },
 "nbformat": 4,
 "nbformat_minor": 5
}
